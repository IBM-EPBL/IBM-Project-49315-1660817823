{
 "cells": [
  {
   "cell_type": "code",
   "execution_count": 1,
   "metadata": {},
   "outputs": [],
   "source": [
    "# importing Libraries"
   ]
  },
  {
   "cell_type": "code",
   "execution_count": 2,
   "metadata": {
    "id": "O1MjvvcIdM0E"
   },
   "outputs": [],
   "source": [
    "from tensorflow.keras.preprocessing.image import ImageDataGenerator\n",
    "from tensorflow.keras.models import Sequential\n",
    "from tensorflow.keras.layers import Convolution2D,MaxPooling2D,Flatten,Dense"
   ]
  },
  {
   "cell_type": "code",
   "execution_count": 3,
   "metadata": {
    "id": "OEKPF-6qedGQ"
   },
   "outputs": [],
   "source": [
    "train_gen=ImageDataGenerator(rescale=1./255,horizontal_flip=True,shear_range=0.2,zoom_range=0.2)"
   ]
  },
  {
   "cell_type": "code",
   "execution_count": 4,
   "metadata": {
    "id": "wJ1EpQhnfAJ9"
   },
   "outputs": [],
   "source": [
    "test_gen=ImageDataGenerator(rescale=1)"
   ]
  },
  {
   "cell_type": "code",
   "execution_count": 5,
   "metadata": {},
   "outputs": [],
   "source": [
    "# Image Preprocessing"
   ]
  },
  {
   "cell_type": "code",
   "execution_count": 6,
   "metadata": {
    "colab": {
     "base_uri": "https://localhost:8080/"
    },
    "id": "6DbfT5XIfGWN",
    "outputId": "40b261a5-5185-496f-a061-efd03bde80e9"
   },
   "outputs": [
    {
     "name": "stdout",
     "output_type": "stream",
     "text": [
      "Found 5384 images belonging to 6 classes.\n"
     ]
    }
   ],
   "source": [
    "x_train=train_gen.flow_from_directory(r\"D:\\Studies\\IBM\\Project\\Dataset_Plant_Disease\\fruit-dataset\\fruit-dataset\\train\",target_size=(128,128),class_mode=\"categorical\",batch_size=32)"
   ]
  },
  {
   "cell_type": "code",
   "execution_count": 7,
   "metadata": {
    "colab": {
     "base_uri": "https://localhost:8080/"
    },
    "id": "-JwdnnVCiX-Q",
    "outputId": "9fb00310-3bf2-4b53-9a77-28c68db2186b"
   },
   "outputs": [
    {
     "name": "stdout",
     "output_type": "stream",
     "text": [
      "Found 1686 images belonging to 6 classes.\n"
     ]
    }
   ],
   "source": [
    "x_test=test_gen.flow_from_directory(r\"D:\\Studies\\IBM\\Project\\Dataset_Plant_Disease\\fruit-dataset\\fruit-dataset\\test\",target_size=(128,128),class_mode=\"categorical\",batch_size=32)"
   ]
  },
  {
   "cell_type": "code",
   "execution_count": 8,
   "metadata": {},
   "outputs": [],
   "source": [
    "# Model building"
   ]
  },
  {
   "cell_type": "code",
   "execution_count": 9,
   "metadata": {
    "id": "KEro5sdZjfQQ"
   },
   "outputs": [],
   "source": [
    "model=Sequential()"
   ]
  },
  {
   "cell_type": "code",
   "execution_count": 10,
   "metadata": {
    "id": "J46cQkjGkqid"
   },
   "outputs": [],
   "source": [
    "# adding convolutional layer\n",
    "model.add(Convolution2D(32,(3,3),activation=\"relu\",input_shape=(128,128,3)))"
   ]
  },
  {
   "cell_type": "code",
   "execution_count": 11,
   "metadata": {
    "id": "-Kbzl2MWlCxL"
   },
   "outputs": [],
   "source": [
    "# adding maxpooling layer\n",
    "model.add(MaxPooling2D(pool_size=(2,2)))"
   ]
  },
  {
   "cell_type": "code",
   "execution_count": 12,
   "metadata": {
    "id": "NdxzNhmtlMCM"
   },
   "outputs": [],
   "source": [
    "# adding flatten layer\n",
    "model.add(Flatten())"
   ]
  },
  {
   "cell_type": "code",
   "execution_count": 13,
   "metadata": {
    "id": "S20-jz79lRL7"
   },
   "outputs": [],
   "source": [
    "# adding dense layer for 4 hidden layer\n",
    "model.add(Dense(500,activation=\"relu\"))"
   ]
  },
  {
   "cell_type": "code",
   "execution_count": 14,
   "metadata": {
    "id": "VYyP9h5Yl0Ta"
   },
   "outputs": [],
   "source": [
    "model.add(Dense(500,activation=\"relu\"))"
   ]
  },
  {
   "cell_type": "code",
   "execution_count": 15,
   "metadata": {},
   "outputs": [],
   "source": [
    "model.add(Dense(300,activation=\"relu\"))"
   ]
  },
  {
   "cell_type": "code",
   "execution_count": 16,
   "metadata": {},
   "outputs": [],
   "source": [
    "model.add(Dense(300,activation=\"relu\"))"
   ]
  },
  {
   "cell_type": "code",
   "execution_count": 17,
   "metadata": {
    "id": "lU8drAwOl1Z5"
   },
   "outputs": [],
   "source": [
    "#adding output layer\n",
    "model.add(Dense(6,activation=\"softmax\"))"
   ]
  },
  {
   "cell_type": "code",
   "execution_count": 18,
   "metadata": {
    "id": "DsrnxzYhl9H4"
   },
   "outputs": [],
   "source": [
    "model.compile(loss=\"categorical_crossentropy\",metrics=[\"accuracy\"],optimizer=\"adam\")"
   ]
  },
  {
   "cell_type": "code",
   "execution_count": 19,
   "metadata": {},
   "outputs": [
    {
     "name": "stdout",
     "output_type": "stream",
     "text": [
      "Epoch 1/15\n",
      "169/169 [==============================] - 135s 792ms/step - loss: 0.7484 - accuracy: 0.7561 - val_loss: 53.4420 - val_accuracy: 0.8766\n",
      "Epoch 2/15\n",
      "169/169 [==============================] - 133s 787ms/step - loss: 0.2828 - accuracy: 0.9019 - val_loss: 136.9735 - val_accuracy: 0.8007\n",
      "Epoch 3/15\n",
      "169/169 [==============================] - 132s 779ms/step - loss: 0.2401 - accuracy: 0.9151 - val_loss: 291.0584 - val_accuracy: 0.6928\n",
      "Epoch 4/15\n",
      "169/169 [==============================] - 131s 775ms/step - loss: 0.1773 - accuracy: 0.9385 - val_loss: 311.4879 - val_accuracy: 0.7070\n",
      "Epoch 5/15\n",
      "169/169 [==============================] - 132s 779ms/step - loss: 0.1581 - accuracy: 0.9454 - val_loss: 168.9684 - val_accuracy: 0.7900\n",
      "Epoch 6/15\n",
      "169/169 [==============================] - 131s 774ms/step - loss: 0.1777 - accuracy: 0.9380 - val_loss: 432.3508 - val_accuracy: 0.6999\n",
      "Epoch 7/15\n",
      "169/169 [==============================] - 136s 803ms/step - loss: 0.1198 - accuracy: 0.9604 - val_loss: 519.1130 - val_accuracy: 0.6435\n",
      "Epoch 8/15\n",
      "169/169 [==============================] - 134s 796ms/step - loss: 0.1328 - accuracy: 0.9551 - val_loss: 1058.8077 - val_accuracy: 0.5451\n",
      "Epoch 9/15\n",
      "169/169 [==============================] - 135s 797ms/step - loss: 0.1219 - accuracy: 0.9575 - val_loss: 471.5659 - val_accuracy: 0.6536\n",
      "Epoch 10/15\n",
      "169/169 [==============================] - 134s 795ms/step - loss: 0.1001 - accuracy: 0.9642 - val_loss: 2015.3295 - val_accuracy: 0.3298\n",
      "Epoch 11/15\n",
      "169/169 [==============================] - 135s 798ms/step - loss: 0.1100 - accuracy: 0.9638 - val_loss: 1655.9318 - val_accuracy: 0.3962\n",
      "Epoch 12/15\n",
      "169/169 [==============================] - 135s 799ms/step - loss: 0.1012 - accuracy: 0.9679 - val_loss: 925.8300 - val_accuracy: 0.5492\n",
      "Epoch 13/15\n",
      "169/169 [==============================] - 134s 794ms/step - loss: 0.0947 - accuracy: 0.9690 - val_loss: 1130.6990 - val_accuracy: 0.4786\n",
      "Epoch 14/15\n",
      "169/169 [==============================] - 134s 795ms/step - loss: 0.0629 - accuracy: 0.9788 - val_loss: 1217.1857 - val_accuracy: 0.5433\n",
      "Epoch 15/15\n",
      "169/169 [==============================] - 135s 797ms/step - loss: 0.0674 - accuracy: 0.9798 - val_loss: 796.5715 - val_accuracy: 0.6222\n"
     ]
    },
    {
     "data": {
      "text/plain": [
       "<keras.callbacks.History at 0x29ed371fa30>"
      ]
     },
     "execution_count": 19,
     "metadata": {},
     "output_type": "execute_result"
    }
   ],
   "source": [
    "model.fit(x_train,epochs=15,validation_data=x_test,steps_per_epoch=len(x_train),validation_steps=len(x_test))"
   ]
  },
  {
   "cell_type": "code",
   "execution_count": 20,
   "metadata": {
    "id": "nD8YHA3soNN-"
   },
   "outputs": [],
   "source": [
    "model.save(\"Fruit.h5\")"
   ]
  }
 ],
 "metadata": {
  "colab": {
   "collapsed_sections": [],
   "provenance": []
  },
  "kernelspec": {
   "display_name": "Python 3 (ipykernel)",
   "language": "python",
   "name": "python3"
  },
  "language_info": {
   "codemirror_mode": {
    "name": "ipython",
    "version": 3
   },
   "file_extension": ".py",
   "mimetype": "text/x-python",
   "name": "python",
   "nbconvert_exporter": "python",
   "pygments_lexer": "ipython3",
   "version": "3.9.13"
  }
 },
 "nbformat": 4,
 "nbformat_minor": 1
}
