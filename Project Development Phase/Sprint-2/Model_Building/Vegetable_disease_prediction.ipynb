{
 "cells": [
  {
   "cell_type": "code",
   "execution_count": 1,
   "metadata": {},
   "outputs": [],
   "source": [
    "# importing Libraries"
   ]
  },
  {
   "cell_type": "code",
   "execution_count": 2,
   "metadata": {
    "id": "O1MjvvcIdM0E"
   },
   "outputs": [],
   "source": [
    "from tensorflow.keras.preprocessing.image import ImageDataGenerator\n",
    "from tensorflow.keras.models import Sequential\n",
    "from tensorflow.keras.layers import Convolution2D,MaxPooling2D,Flatten,Dense"
   ]
  },
  {
   "cell_type": "code",
   "execution_count": 3,
   "metadata": {
    "id": "OEKPF-6qedGQ"
   },
   "outputs": [],
   "source": [
    "train_gen=ImageDataGenerator(rescale=1./255,horizontal_flip=True,shear_range=0.2,zoom_range=0.2)"
   ]
  },
  {
   "cell_type": "code",
   "execution_count": 4,
   "metadata": {
    "id": "wJ1EpQhnfAJ9"
   },
   "outputs": [],
   "source": [
    "test_gen=ImageDataGenerator(rescale=1)"
   ]
  },
  {
   "cell_type": "code",
   "execution_count": 5,
   "metadata": {},
   "outputs": [],
   "source": [
    "# Image Preprocessing"
   ]
  },
  {
   "cell_type": "code",
   "execution_count": 6,
   "metadata": {
    "colab": {
     "base_uri": "https://localhost:8080/"
    },
    "id": "6DbfT5XIfGWN",
    "outputId": "40b261a5-5185-496f-a061-efd03bde80e9"
   },
   "outputs": [
    {
     "name": "stdout",
     "output_type": "stream",
     "text": [
      "Found 11386 images belonging to 9 classes.\n"
     ]
    }
   ],
   "source": [
    "x_train=train_gen.flow_from_directory(r\"D:\\Studies\\IBM\\Project\\Dataset_Plant_Disease\\Veg-dataset\\Veg-dataset\\train_set\",target_size=(128,128),class_mode=\"categorical\",batch_size=32)"
   ]
  },
  {
   "cell_type": "code",
   "execution_count": 7,
   "metadata": {
    "colab": {
     "base_uri": "https://localhost:8080/"
    },
    "id": "-JwdnnVCiX-Q",
    "outputId": "9fb00310-3bf2-4b53-9a77-28c68db2186b"
   },
   "outputs": [
    {
     "name": "stdout",
     "output_type": "stream",
     "text": [
      "Found 3416 images belonging to 9 classes.\n"
     ]
    }
   ],
   "source": [
    "x_test=test_gen.flow_from_directory(r\"D:\\Studies\\IBM\\Project\\Dataset_Plant_Disease\\Veg-dataset\\Veg-dataset\\test_set\",target_size=(128,128),class_mode=\"categorical\",batch_size=32)"
   ]
  },
  {
   "cell_type": "code",
   "execution_count": 8,
   "metadata": {},
   "outputs": [],
   "source": [
    "# Model building"
   ]
  },
  {
   "cell_type": "code",
   "execution_count": 9,
   "metadata": {
    "id": "KEro5sdZjfQQ"
   },
   "outputs": [],
   "source": [
    "model=Sequential()"
   ]
  },
  {
   "cell_type": "code",
   "execution_count": 10,
   "metadata": {
    "id": "J46cQkjGkqid"
   },
   "outputs": [],
   "source": [
    "# adding convolutional layer\n",
    "model.add(Convolution2D(32,(3,3),activation=\"relu\",input_shape=(128,128,3)))"
   ]
  },
  {
   "cell_type": "code",
   "execution_count": 11,
   "metadata": {
    "id": "-Kbzl2MWlCxL"
   },
   "outputs": [],
   "source": [
    "# adding maxpooling layer\n",
    "model.add(MaxPooling2D(pool_size=(2,2)))"
   ]
  },
  {
   "cell_type": "code",
   "execution_count": 12,
   "metadata": {
    "id": "NdxzNhmtlMCM"
   },
   "outputs": [],
   "source": [
    "# adding flatten layer\n",
    "model.add(Flatten())"
   ]
  },
  {
   "cell_type": "code",
   "execution_count": 13,
   "metadata": {
    "id": "S20-jz79lRL7"
   },
   "outputs": [],
   "source": [
    "# adding dense layer for 4 hidden layer\n",
    "model.add(Dense(500,activation=\"relu\"))"
   ]
  },
  {
   "cell_type": "code",
   "execution_count": 14,
   "metadata": {
    "id": "VYyP9h5Yl0Ta"
   },
   "outputs": [],
   "source": [
    "model.add(Dense(500,activation=\"relu\"))"
   ]
  },
  {
   "cell_type": "code",
   "execution_count": 15,
   "metadata": {},
   "outputs": [],
   "source": [
    "model.add(Dense(300,activation=\"relu\"))"
   ]
  },
  {
   "cell_type": "code",
   "execution_count": 16,
   "metadata": {},
   "outputs": [],
   "source": [
    "model.add(Dense(300,activation=\"relu\"))"
   ]
  },
  {
   "cell_type": "code",
   "execution_count": 17,
   "metadata": {
    "id": "lU8drAwOl1Z5"
   },
   "outputs": [],
   "source": [
    "#adding output layer\n",
    "model.add(Dense(9,activation=\"softmax\"))"
   ]
  },
  {
   "cell_type": "code",
   "execution_count": 18,
   "metadata": {
    "id": "DsrnxzYhl9H4"
   },
   "outputs": [],
   "source": [
    "model.compile(loss=\"categorical_crossentropy\",metrics=[\"accuracy\"],optimizer=\"adam\")"
   ]
  },
  {
   "cell_type": "code",
   "execution_count": 19,
   "metadata": {},
   "outputs": [
    {
     "name": "stdout",
     "output_type": "stream",
     "text": [
      "Epoch 1/15\n",
      "356/356 [==============================] - 306s 854ms/step - loss: 1.3358 - accuracy: 0.5612 - val_loss: 1038.0200 - val_accuracy: 0.2582\n",
      "Epoch 2/15\n",
      "356/356 [==============================] - 300s 843ms/step - loss: 0.5988 - accuracy: 0.7866 - val_loss: 1355.0419 - val_accuracy: 0.2995\n",
      "Epoch 3/15\n",
      "356/356 [==============================] - 301s 845ms/step - loss: 0.4898 - accuracy: 0.8310 - val_loss: 1213.9242 - val_accuracy: 0.3258\n",
      "Epoch 4/15\n",
      "356/356 [==============================] - 294s 825ms/step - loss: 0.4171 - accuracy: 0.8515 - val_loss: 1785.3890 - val_accuracy: 0.2787\n",
      "Epoch 5/15\n",
      "356/356 [==============================] - 296s 832ms/step - loss: 0.3326 - accuracy: 0.8849 - val_loss: 1510.5522 - val_accuracy: 0.3674\n",
      "Epoch 6/15\n",
      "356/356 [==============================] - 293s 822ms/step - loss: 0.3001 - accuracy: 0.8946 - val_loss: 2174.5864 - val_accuracy: 0.3036\n",
      "Epoch 7/15\n",
      "356/356 [==============================] - 294s 825ms/step - loss: 0.2758 - accuracy: 0.9084 - val_loss: 2259.1487 - val_accuracy: 0.3232\n",
      "Epoch 8/15\n",
      "356/356 [==============================] - 293s 822ms/step - loss: 0.2684 - accuracy: 0.9079 - val_loss: 2780.7720 - val_accuracy: 0.2746\n",
      "Epoch 9/15\n",
      "356/356 [==============================] - 301s 844ms/step - loss: 0.2765 - accuracy: 0.9079 - val_loss: 1993.5796 - val_accuracy: 0.3273\n",
      "Epoch 10/15\n",
      "356/356 [==============================] - 293s 824ms/step - loss: 0.2120 - accuracy: 0.9282 - val_loss: 2485.3555 - val_accuracy: 0.3323\n",
      "Epoch 11/15\n",
      "356/356 [==============================] - 297s 834ms/step - loss: 0.2072 - accuracy: 0.9304 - val_loss: 2495.4011 - val_accuracy: 0.3080\n",
      "Epoch 12/15\n",
      "356/356 [==============================] - 294s 825ms/step - loss: 0.2274 - accuracy: 0.9239 - val_loss: 2885.1292 - val_accuracy: 0.3024\n",
      "Epoch 13/15\n",
      "356/356 [==============================] - 294s 824ms/step - loss: 0.1882 - accuracy: 0.9359 - val_loss: 3092.9814 - val_accuracy: 0.2822\n",
      "Epoch 14/15\n",
      "356/356 [==============================] - 295s 828ms/step - loss: 0.1947 - accuracy: 0.9349 - val_loss: 2176.5869 - val_accuracy: 0.3129\n",
      "Epoch 15/15\n",
      "356/356 [==============================] - 299s 841ms/step - loss: 0.1823 - accuracy: 0.9387 - val_loss: 2528.6892 - val_accuracy: 0.2802\n"
     ]
    },
    {
     "data": {
      "text/plain": [
       "<keras.callbacks.History at 0x19e8645eb20>"
      ]
     },
     "execution_count": 19,
     "metadata": {},
     "output_type": "execute_result"
    }
   ],
   "source": [
    "model.fit(x_train,epochs=15,validation_data=x_test,steps_per_epoch=len(x_train),validation_steps=len(x_test))"
   ]
  },
  {
   "cell_type": "code",
   "execution_count": 20,
   "metadata": {
    "id": "nD8YHA3soNN-"
   },
   "outputs": [],
   "source": [
    "model.save(\"Vegetable.h5\")"
   ]
  }
 ],
 "metadata": {
  "colab": {
   "collapsed_sections": [],
   "provenance": []
  },
  "kernelspec": {
   "display_name": "Python 3 (ipykernel)",
   "language": "python",
   "name": "python3"
  },
  "language_info": {
   "codemirror_mode": {
    "name": "ipython",
    "version": 3
   },
   "file_extension": ".py",
   "mimetype": "text/x-python",
   "name": "python",
   "nbconvert_exporter": "python",
   "pygments_lexer": "ipython3",
   "version": "3.9.13"
  }
 },
 "nbformat": 4,
 "nbformat_minor": 1
}
