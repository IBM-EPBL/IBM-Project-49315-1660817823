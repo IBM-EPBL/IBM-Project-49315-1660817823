{
 "cells": [
  {
   "cell_type": "code",
   "execution_count": 1,
   "id": "3e638611",
   "metadata": {},
   "outputs": [],
   "source": [
    "from tensorflow.keras.models import load_model\n",
    "from tensorflow.keras.preprocessing import image\n",
    "from tensorflow.keras.preprocessing.image import ImageDataGenerator\n",
    "import numpy as np"
   ]
  },
  {
   "cell_type": "code",
   "execution_count": 2,
   "id": "de772217",
   "metadata": {},
   "outputs": [],
   "source": [
    "# Testing the Fruit detection model"
   ]
  },
  {
   "cell_type": "code",
   "execution_count": 3,
   "id": "c83a3253",
   "metadata": {},
   "outputs": [],
   "source": [
    "model=load_model(r'D:\\Studies\\IBM\\Fertilizer Recommendation System\\Fruit.h5')"
   ]
  },
  {
   "cell_type": "code",
   "execution_count": 4,
   "id": "f354df13",
   "metadata": {},
   "outputs": [
    {
     "name": "stdout",
     "output_type": "stream",
     "text": [
      "Found 1686 images belonging to 6 classes.\n"
     ]
    }
   ],
   "source": [
    "test_gen=ImageDataGenerator(rescale=1).flow_from_directory(r'D:\\Studies\\IBM\\Fertilizer Recommendation System\\Dataset_Plant_Disease\\fruit-dataset\\fruit-dataset\\test',target_size=(128,128),class_mode=\"categorical\",batch_size=32)"
   ]
  },
  {
   "cell_type": "code",
   "execution_count": 5,
   "id": "441e7e87",
   "metadata": {},
   "outputs": [],
   "source": [
    "img=image.load_img(r'D:\\Studies\\IBM\\Fertilizer Recommendation System\\Dataset_Plant_Disease\\fruit-dataset\\fruit-dataset\\test\\Peach___Bacterial_spot\\0e37dd9c-c73d-403b-81c9-60c108607d1a___Rutg._Bact.S 1610.JPG',target_size=(128,128))"
   ]
  },
  {
   "cell_type": "code",
   "execution_count": 6,
   "id": "ccd76fae",
   "metadata": {},
   "outputs": [],
   "source": [
    "x=image.img_to_array(img)"
   ]
  },
  {
   "cell_type": "code",
   "execution_count": 7,
   "id": "57466733",
   "metadata": {},
   "outputs": [],
   "source": [
    "x=np.expand_dims(x,axis=0)"
   ]
  },
  {
   "cell_type": "code",
   "execution_count": 8,
   "id": "a1f0cd15",
   "metadata": {},
   "outputs": [
    {
     "name": "stdout",
     "output_type": "stream",
     "text": [
      "1/1 [==============================] - 0s 267ms/step\n"
     ]
    }
   ],
   "source": [
    "pred=model.predict(x)"
   ]
  },
  {
   "cell_type": "code",
   "execution_count": 9,
   "id": "56ef22a4",
   "metadata": {},
   "outputs": [
    {
     "data": {
      "text/plain": [
       "array([[0., 0., 0., 0., 1., 0.]], dtype=float32)"
      ]
     },
     "execution_count": 9,
     "metadata": {},
     "output_type": "execute_result"
    }
   ],
   "source": [
    "pred"
   ]
  },
  {
   "cell_type": "code",
   "execution_count": 10,
   "id": "65cff03d",
   "metadata": {},
   "outputs": [],
   "source": [
    "list=['Apple___Black_rot','Apple___healthy','Corn_(maize)___healthy','Corn_(maize)___Northern_Leaf_Blight','Peach___Bacterial_spot','Peach___healthy']"
   ]
  },
  {
   "cell_type": "code",
   "execution_count": 11,
   "id": "ecdde5bb",
   "metadata": {},
   "outputs": [
    {
     "name": "stdout",
     "output_type": "stream",
     "text": [
      "Peach___Bacterial_spot\n"
     ]
    }
   ],
   "source": [
    "print(list[np.argmax(pred)])"
   ]
  },
  {
   "cell_type": "code",
   "execution_count": 12,
   "id": "e457fde8",
   "metadata": {},
   "outputs": [
    {
     "name": "stdout",
     "output_type": "stream",
     "text": [
      "50/50 [==============================] - 8s 152ms/step - loss: 796.7425 - accuracy: 0.6219\n"
     ]
    },
    {
     "data": {
      "text/plain": [
       "[796.7424926757812, 0.621874988079071]"
      ]
     },
     "execution_count": 12,
     "metadata": {},
     "output_type": "execute_result"
    }
   ],
   "source": [
    "model.evaluate(test_gen,steps=50)"
   ]
  },
  {
   "cell_type": "code",
   "execution_count": null,
   "id": "0a0a2a2c",
   "metadata": {},
   "outputs": [],
   "source": []
  },
  {
   "cell_type": "code",
   "execution_count": 13,
   "id": "d494c665",
   "metadata": {},
   "outputs": [],
   "source": [
    "# Testing the Vegetable detection model"
   ]
  },
  {
   "cell_type": "code",
   "execution_count": 14,
   "id": "92eecd01",
   "metadata": {},
   "outputs": [],
   "source": [
    "model=load_model(r'D:\\Studies\\IBM\\Fertilizer Recommendation System\\Vegetable.h5')"
   ]
  },
  {
   "cell_type": "code",
   "execution_count": 15,
   "id": "222ad322",
   "metadata": {},
   "outputs": [
    {
     "name": "stdout",
     "output_type": "stream",
     "text": [
      "Found 3416 images belonging to 9 classes.\n"
     ]
    }
   ],
   "source": [
    "test_gen=ImageDataGenerator(rescale=1).flow_from_directory(r'D:\\Studies\\IBM\\Fertilizer Recommendation System\\Dataset_Plant_Disease\\Veg-dataset\\Veg-dataset\\test_set',target_size=(128,128),class_mode=\"categorical\",batch_size=32)"
   ]
  },
  {
   "cell_type": "code",
   "execution_count": 16,
   "id": "8e38e4b4",
   "metadata": {},
   "outputs": [],
   "source": [
    "img=image.load_img(r'D:\\Studies\\IBM\\Fertilizer Recommendation System\\Dataset_Plant_Disease\\Veg-dataset\\Veg-dataset\\test_set\\Tomato___Late_blight\\c5b2af5b-c27f-4ed3-83e5-e2bfe096f024___RS_Late.B 6918.JPG',target_size=(128,128))"
   ]
  },
  {
   "cell_type": "code",
   "execution_count": 17,
   "id": "55ef3d8d",
   "metadata": {},
   "outputs": [],
   "source": [
    "x=image.img_to_array(img)"
   ]
  },
  {
   "cell_type": "code",
   "execution_count": 18,
   "id": "1060005c",
   "metadata": {},
   "outputs": [],
   "source": [
    "x=np.expand_dims(x,axis=0)"
   ]
  },
  {
   "cell_type": "code",
   "execution_count": 19,
   "id": "66996761",
   "metadata": {},
   "outputs": [
    {
     "name": "stdout",
     "output_type": "stream",
     "text": [
      "1/1 [==============================] - 0s 189ms/step\n"
     ]
    }
   ],
   "source": [
    "pred=model.predict(x)"
   ]
  },
  {
   "cell_type": "code",
   "execution_count": 20,
   "id": "9c5f37d1",
   "metadata": {},
   "outputs": [
    {
     "data": {
      "text/plain": [
       "array([[0., 0., 0., 0., 0., 0., 1., 0., 0.]], dtype=float32)"
      ]
     },
     "execution_count": 20,
     "metadata": {},
     "output_type": "execute_result"
    }
   ],
   "source": [
    "pred"
   ]
  },
  {
   "cell_type": "code",
   "execution_count": 21,
   "id": "9577ea2a",
   "metadata": {},
   "outputs": [],
   "source": [
    "list=['Pepper,_bell___Bacterial_spot','Pepper,_bell___healthy','Potato___Early_blight','Potato___healthy','Potato___Late_blight','Tomato___Bacterial_spot','Tomato___Late_blight','Tomato___Leaf_Mold','Tomato___Septoria_leaf_spot']"
   ]
  },
  {
   "cell_type": "code",
   "execution_count": 22,
   "id": "9592f774",
   "metadata": {},
   "outputs": [
    {
     "name": "stdout",
     "output_type": "stream",
     "text": [
      "Tomato___Late_blight\n"
     ]
    }
   ],
   "source": [
    "print(list[np.argmax(pred)])"
   ]
  },
  {
   "cell_type": "code",
   "execution_count": 23,
   "id": "8f56dd74",
   "metadata": {},
   "outputs": [
    {
     "name": "stdout",
     "output_type": "stream",
     "text": [
      "50/50 [==============================] - 8s 155ms/step - loss: 2527.9734 - accuracy: 0.2856\n"
     ]
    },
    {
     "data": {
      "text/plain": [
       "[2527.973388671875, 0.28562501072883606]"
      ]
     },
     "execution_count": 23,
     "metadata": {},
     "output_type": "execute_result"
    }
   ],
   "source": [
    "model.evaluate(test_gen,steps=50)"
   ]
  },
  {
   "cell_type": "code",
   "execution_count": 24,
   "id": "0be38293",
   "metadata": {},
   "outputs": [],
   "source": [
    "# Models Testing is done successfully"
   ]
  }
 ],
 "metadata": {
  "kernelspec": {
   "display_name": "Python 3 (ipykernel)",
   "language": "python",
   "name": "python3"
  },
  "language_info": {
   "codemirror_mode": {
    "name": "ipython",
    "version": 3
   },
   "file_extension": ".py",
   "mimetype": "text/x-python",
   "name": "python",
   "nbconvert_exporter": "python",
   "pygments_lexer": "ipython3",
   "version": "3.9.13"
  }
 },
 "nbformat": 4,
 "nbformat_minor": 5
}
