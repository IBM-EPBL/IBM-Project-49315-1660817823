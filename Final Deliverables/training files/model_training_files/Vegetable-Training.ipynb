{
 "cells": [
  {
   "cell_type": "code",
   "execution_count": 1,
   "metadata": {},
   "outputs": [],
   "source": [
    "# importing Libraries"
   ]
  },
  {
   "cell_type": "code",
   "execution_count": 2,
   "metadata": {
    "id": "O1MjvvcIdM0E"
   },
   "outputs": [],
   "source": [
    "from tensorflow.keras.preprocessing.image import ImageDataGenerator\n",
    "from tensorflow.keras.models import Sequential\n",
    "from tensorflow.keras.layers import Convolution2D,MaxPooling2D,Flatten,Dense"
   ]
  },
  {
   "cell_type": "code",
   "execution_count": 3,
   "metadata": {
    "id": "OEKPF-6qedGQ"
   },
   "outputs": [],
   "source": [
    "train_gen=ImageDataGenerator(rescale=1./255,horizontal_flip=True,shear_range=0.2,zoom_range=0.2)"
   ]
  },
  {
   "cell_type": "code",
   "execution_count": 4,
   "metadata": {
    "id": "wJ1EpQhnfAJ9"
   },
   "outputs": [],
   "source": [
    "test_gen=ImageDataGenerator(rescale=1)"
   ]
  },
  {
   "cell_type": "code",
   "execution_count": 5,
   "metadata": {},
   "outputs": [],
   "source": [
    "# Image Preprocessing"
   ]
  },
  {
   "cell_type": "code",
   "execution_count": 6,
   "metadata": {
    "colab": {
     "base_uri": "https://localhost:8080/"
    },
    "id": "6DbfT5XIfGWN",
    "outputId": "40b261a5-5185-496f-a061-efd03bde80e9"
   },
   "outputs": [
    {
     "name": "stdout",
     "output_type": "stream",
     "text": [
      "Found 11386 images belonging to 9 classes.\n"
     ]
    }
   ],
   "source": [
    "x_train=train_gen.flow_from_directory(r\"D:\\Studies\\IBM\\Project\\Dataset Plant Disease\\Veg-dataset\\Veg-dataset\\train_set\",target_size=(128,128),class_mode=\"categorical\",batch_size=32)"
   ]
  },
  {
   "cell_type": "code",
   "execution_count": 7,
   "metadata": {
    "colab": {
     "base_uri": "https://localhost:8080/"
    },
    "id": "-JwdnnVCiX-Q",
    "outputId": "9fb00310-3bf2-4b53-9a77-28c68db2186b"
   },
   "outputs": [
    {
     "name": "stdout",
     "output_type": "stream",
     "text": [
      "Found 3416 images belonging to 9 classes.\n"
     ]
    }
   ],
   "source": [
    "x_test=test_gen.flow_from_directory(r\"D:\\Studies\\IBM\\Project\\Dataset Plant Disease\\Veg-dataset\\Veg-dataset\\test_set\",target_size=(128,128),class_mode=\"categorical\",batch_size=32)"
   ]
  },
  {
   "cell_type": "code",
   "execution_count": 8,
   "metadata": {},
   "outputs": [],
   "source": [
    "# Model building"
   ]
  },
  {
   "cell_type": "code",
   "execution_count": 9,
   "metadata": {
    "id": "KEro5sdZjfQQ"
   },
   "outputs": [],
   "source": [
    "model=Sequential()"
   ]
  },
  {
   "cell_type": "code",
   "execution_count": 10,
   "metadata": {
    "id": "J46cQkjGkqid"
   },
   "outputs": [],
   "source": [
    "# adding convolutional layer\n",
    "model.add(Convolution2D(32,(3,3),activation=\"relu\",input_shape=(128,128,3)))"
   ]
  },
  {
   "cell_type": "code",
   "execution_count": 11,
   "metadata": {
    "id": "-Kbzl2MWlCxL"
   },
   "outputs": [],
   "source": [
    "# adding maxpooling layer\n",
    "model.add(MaxPooling2D(pool_size=(2,2)))"
   ]
  },
  {
   "cell_type": "code",
   "execution_count": 12,
   "metadata": {
    "id": "NdxzNhmtlMCM"
   },
   "outputs": [],
   "source": [
    "# adding flatten layer\n",
    "model.add(Flatten())"
   ]
  },
  {
   "cell_type": "code",
   "execution_count": 13,
   "metadata": {
    "id": "S20-jz79lRL7"
   },
   "outputs": [],
   "source": [
    "# adding dense layer for 2 hidden layer\n",
    "model.add(Dense(500,activation=\"relu\"))"
   ]
  },
  {
   "cell_type": "code",
   "execution_count": 14,
   "metadata": {
    "id": "VYyP9h5Yl0Ta"
   },
   "outputs": [],
   "source": [
    "model.add(Dense(300,activation=\"relu\"))"
   ]
  },
  {
   "cell_type": "code",
   "execution_count": 15,
   "metadata": {
    "id": "lU8drAwOl1Z5"
   },
   "outputs": [],
   "source": [
    "#adding output layer\n",
    "model.add(Dense(9,activation=\"softmax\"))"
   ]
  },
  {
   "cell_type": "code",
   "execution_count": 16,
   "metadata": {
    "id": "DsrnxzYhl9H4"
   },
   "outputs": [],
   "source": [
    "model.compile(loss=\"categorical_crossentropy\",metrics=[\"accuracy\"],optimizer=\"adam\")"
   ]
  },
  {
   "cell_type": "code",
   "execution_count": 17,
   "metadata": {},
   "outputs": [
    {
     "name": "stdout",
     "output_type": "stream",
     "text": [
      "Epoch 1/10\n",
      "356/356 [==============================] - 298s 829ms/step - loss: 1.3631 - accuracy: 0.6112 - val_loss: 856.9445 - val_accuracy: 0.3662\n",
      "Epoch 2/10\n",
      "356/356 [==============================] - 293s 822ms/step - loss: 0.5386 - accuracy: 0.8083 - val_loss: 1182.6682 - val_accuracy: 0.3443\n",
      "Epoch 3/10\n",
      "356/356 [==============================] - 314s 880ms/step - loss: 0.4265 - accuracy: 0.8532 - val_loss: 1487.8918 - val_accuracy: 0.3691\n",
      "Epoch 4/10\n",
      "356/356 [==============================] - 301s 846ms/step - loss: 0.3430 - accuracy: 0.8811 - val_loss: 1703.5052 - val_accuracy: 0.3612\n",
      "Epoch 5/10\n",
      "356/356 [==============================] - 292s 821ms/step - loss: 0.2895 - accuracy: 0.8995 - val_loss: 1660.5786 - val_accuracy: 0.3405\n",
      "Epoch 6/10\n",
      "356/356 [==============================] - 653s 2s/step - loss: 0.2519 - accuracy: 0.9105 - val_loss: 2046.7498 - val_accuracy: 0.2980\n",
      "Epoch 7/10\n",
      "356/356 [==============================] - 301s 845ms/step - loss: 0.2266 - accuracy: 0.9203 - val_loss: 1744.0963 - val_accuracy: 0.3785\n",
      "Epoch 8/10\n",
      "356/356 [==============================] - 297s 835ms/step - loss: 0.2091 - accuracy: 0.9275 - val_loss: 2461.7102 - val_accuracy: 0.2802\n",
      "Epoch 9/10\n",
      "356/356 [==============================] - 296s 831ms/step - loss: 0.2130 - accuracy: 0.9236 - val_loss: 1756.6615 - val_accuracy: 0.3542\n",
      "Epoch 10/10\n",
      "356/356 [==============================] - 296s 831ms/step - loss: 0.1799 - accuracy: 0.9368 - val_loss: 2149.8738 - val_accuracy: 0.3390\n"
     ]
    },
    {
     "data": {
      "text/plain": [
       "<keras.callbacks.History at 0x2268e85eac0>"
      ]
     },
     "execution_count": 17,
     "metadata": {},
     "output_type": "execute_result"
    }
   ],
   "source": [
    "model.fit(x_train,epochs=10,validation_data=x_test,steps_per_epoch=len(x_train),validation_steps=len(x_test))"
   ]
  },
  {
   "cell_type": "code",
   "execution_count": 18,
   "metadata": {
    "id": "nD8YHA3soNN-"
   },
   "outputs": [],
   "source": [
    "model.save(\"Vegetable.h5\")"
   ]
  }
 ],
 "metadata": {
  "colab": {
   "collapsed_sections": [],
   "provenance": []
  },
  "kernelspec": {
   "display_name": "Python 3 (ipykernel)",
   "language": "python",
   "name": "python3"
  },
  "language_info": {
   "codemirror_mode": {
    "name": "ipython",
    "version": 3
   },
   "file_extension": ".py",
   "mimetype": "text/x-python",
   "name": "python",
   "nbconvert_exporter": "python",
   "pygments_lexer": "ipython3",
   "version": "3.9.13"
  }
 },
 "nbformat": 4,
 "nbformat_minor": 1
}
