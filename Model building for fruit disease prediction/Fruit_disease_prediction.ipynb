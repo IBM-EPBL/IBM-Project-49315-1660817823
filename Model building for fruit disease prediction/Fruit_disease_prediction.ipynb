{
 "cells": [
  {
   "cell_type": "code",
   "execution_count": 1,
   "metadata": {},
   "outputs": [],
   "source": [
    "# importing Libraries"
   ]
  },
  {
   "cell_type": "code",
   "execution_count": 2,
   "metadata": {
    "id": "O1MjvvcIdM0E"
   },
   "outputs": [],
   "source": [
    "from tensorflow.keras.preprocessing.image import ImageDataGenerator\n",
    "from tensorflow.keras.models import Sequential\n",
    "from tensorflow.keras.layers import Convolution2D,MaxPooling2D,Flatten,Dense"
   ]
  },
  {
   "cell_type": "code",
   "execution_count": 3,
   "metadata": {
    "id": "OEKPF-6qedGQ"
   },
   "outputs": [],
   "source": [
    "train_gen=ImageDataGenerator(rescale=1./255,horizontal_flip=True,shear_range=0.2,zoom_range=0.2)"
   ]
  },
  {
   "cell_type": "code",
   "execution_count": 4,
   "metadata": {
    "id": "wJ1EpQhnfAJ9"
   },
   "outputs": [],
   "source": [
    "test_gen=ImageDataGenerator(rescale=1)"
   ]
  },
  {
   "cell_type": "code",
   "execution_count": 5,
   "metadata": {},
   "outputs": [],
   "source": [
    "# Image Preprocessing"
   ]
  },
  {
   "cell_type": "code",
   "execution_count": 6,
   "metadata": {
    "colab": {
     "base_uri": "https://localhost:8080/"
    },
    "id": "6DbfT5XIfGWN",
    "outputId": "40b261a5-5185-496f-a061-efd03bde80e9"
   },
   "outputs": [
    {
     "name": "stdout",
     "output_type": "stream",
     "text": [
      "Found 5384 images belonging to 6 classes.\n"
     ]
    }
   ],
   "source": [
    "x_train=train_gen.flow_from_directory(r\"D:\\Studies\\IBM\\Project\\Dataset Plant Disease\\fruit-dataset\\fruit-dataset\\train\",target_size=(128,128),class_mode=\"categorical\",batch_size=32)"
   ]
  },
  {
   "cell_type": "code",
   "execution_count": 7,
   "metadata": {
    "colab": {
     "base_uri": "https://localhost:8080/"
    },
    "id": "-JwdnnVCiX-Q",
    "outputId": "9fb00310-3bf2-4b53-9a77-28c68db2186b"
   },
   "outputs": [
    {
     "name": "stdout",
     "output_type": "stream",
     "text": [
      "Found 1686 images belonging to 6 classes.\n"
     ]
    }
   ],
   "source": [
    "x_test=test_gen.flow_from_directory(r\"D:\\Studies\\IBM\\Project\\Dataset Plant Disease\\fruit-dataset\\fruit-dataset\\test\",target_size=(128,128),class_mode=\"categorical\",batch_size=32)"
   ]
  },
  {
   "cell_type": "code",
   "execution_count": 8,
   "metadata": {},
   "outputs": [],
   "source": [
    "# Model building"
   ]
  },
  {
   "cell_type": "code",
   "execution_count": 9,
   "metadata": {
    "id": "KEro5sdZjfQQ"
   },
   "outputs": [],
   "source": [
    "model=Sequential()"
   ]
  },
  {
   "cell_type": "code",
   "execution_count": 10,
   "metadata": {
    "id": "J46cQkjGkqid"
   },
   "outputs": [],
   "source": [
    "# adding convolutional layer\n",
    "model.add(Convolution2D(32,(3,3),activation=\"relu\",input_shape=(128,128,3)))"
   ]
  },
  {
   "cell_type": "code",
   "execution_count": 11,
   "metadata": {
    "id": "-Kbzl2MWlCxL"
   },
   "outputs": [],
   "source": [
    "# adding maxpooling layer\n",
    "model.add(MaxPooling2D(pool_size=(2,2)))"
   ]
  },
  {
   "cell_type": "code",
   "execution_count": 12,
   "metadata": {
    "id": "NdxzNhmtlMCM"
   },
   "outputs": [],
   "source": [
    "# adding flatten layer\n",
    "model.add(Flatten())"
   ]
  },
  {
   "cell_type": "code",
   "execution_count": 13,
   "metadata": {
    "id": "S20-jz79lRL7"
   },
   "outputs": [],
   "source": [
    "# adding dense layer for 2 hidden layer\n",
    "model.add(Dense(500,activation=\"relu\"))"
   ]
  },
  {
   "cell_type": "code",
   "execution_count": 14,
   "metadata": {
    "id": "VYyP9h5Yl0Ta"
   },
   "outputs": [],
   "source": [
    "model.add(Dense(300,activation=\"relu\"))"
   ]
  },
  {
   "cell_type": "code",
   "execution_count": 15,
   "metadata": {
    "id": "lU8drAwOl1Z5"
   },
   "outputs": [],
   "source": [
    "#adding output layer\n",
    "model.add(Dense(6,activation=\"softmax\"))"
   ]
  },
  {
   "cell_type": "code",
   "execution_count": 16,
   "metadata": {
    "id": "DsrnxzYhl9H4"
   },
   "outputs": [],
   "source": [
    "model.compile(loss=\"categorical_crossentropy\",metrics=[\"accuracy\"],optimizer=\"adam\")"
   ]
  },
  {
   "cell_type": "code",
   "execution_count": 17,
   "metadata": {},
   "outputs": [
    {
     "name": "stdout",
     "output_type": "stream",
     "text": [
      "Epoch 1/10\n",
      "169/169 [==============================] - 147s 853ms/step - loss: 1.3252 - accuracy: 0.7691 - val_loss: 51.2662 - val_accuracy: 0.8778\n",
      "Epoch 2/10\n",
      "169/169 [==============================] - 142s 840ms/step - loss: 0.2414 - accuracy: 0.9188 - val_loss: 58.3352 - val_accuracy: 0.8832\n",
      "Epoch 3/10\n",
      "169/169 [==============================] - 141s 836ms/step - loss: 0.1937 - accuracy: 0.9302 - val_loss: 167.5934 - val_accuracy: 0.7325\n",
      "Epoch 4/10\n",
      "169/169 [==============================] - 141s 835ms/step - loss: 0.1532 - accuracy: 0.9460 - val_loss: 265.9211 - val_accuracy: 0.7586\n",
      "Epoch 5/10\n",
      "169/169 [==============================] - 142s 836ms/step - loss: 0.1311 - accuracy: 0.9547 - val_loss: 487.2600 - val_accuracy: 0.6376\n",
      "Epoch 6/10\n",
      "169/169 [==============================] - 142s 839ms/step - loss: 0.1433 - accuracy: 0.9506 - val_loss: 663.8962 - val_accuracy: 0.6584\n",
      "Epoch 7/10\n",
      "169/169 [==============================] - 140s 828ms/step - loss: 0.1108 - accuracy: 0.9616 - val_loss: 636.6710 - val_accuracy: 0.6578\n",
      "Epoch 8/10\n",
      "169/169 [==============================] - 145s 858ms/step - loss: 0.0932 - accuracy: 0.9669 - val_loss: 665.7932 - val_accuracy: 0.6898\n",
      "Epoch 9/10\n",
      "169/169 [==============================] - 145s 860ms/step - loss: 0.0916 - accuracy: 0.9699 - val_loss: 987.3330 - val_accuracy: 0.6222\n",
      "Epoch 10/10\n",
      "169/169 [==============================] - 146s 861ms/step - loss: 0.1184 - accuracy: 0.9595 - val_loss: 1089.6812 - val_accuracy: 0.6335\n"
     ]
    },
    {
     "data": {
      "text/plain": [
       "<keras.callbacks.History at 0x206645eed30>"
      ]
     },
     "execution_count": 17,
     "metadata": {},
     "output_type": "execute_result"
    }
   ],
   "source": [
    "model.fit(x_train,epochs=10,validation_data=x_test,steps_per_epoch=len(x_train),validation_steps=len(x_test))"
   ]
  },
  {
   "cell_type": "code",
   "execution_count": 18,
   "metadata": {
    "id": "nD8YHA3soNN-"
   },
   "outputs": [],
   "source": [
    "model.save(\"Fruit.h5\")"
   ]
  }
 ],
 "metadata": {
  "colab": {
   "collapsed_sections": [],
   "provenance": []
  },
  "kernelspec": {
   "display_name": "Python 3 (ipykernel)",
   "language": "python",
   "name": "python3"
  },
  "language_info": {
   "codemirror_mode": {
    "name": "ipython",
    "version": 3
   },
   "file_extension": ".py",
   "mimetype": "text/x-python",
   "name": "python",
   "nbconvert_exporter": "python",
   "pygments_lexer": "ipython3",
   "version": "3.9.13"
  }
 },
 "nbformat": 4,
 "nbformat_minor": 1
}
